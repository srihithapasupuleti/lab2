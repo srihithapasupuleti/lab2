{
  "nbformat": 4,
  "nbformat_minor": 0,
  "metadata": {
    "colab": {
      "name": "lab2",
      "provenance": [],
      "authorship_tag": "ABX9TyOff6h5ms4mL9OqC4kolenA",
      "include_colab_link": true
    },
    "kernelspec": {
      "name": "python3",
      "display_name": "Python 3"
    }
  },
  "cells": [
    {
      "cell_type": "markdown",
      "metadata": {
        "id": "view-in-github",
        "colab_type": "text"
      },
      "source": [
        "<a href=\"https://colab.research.google.com/github/srihithapasupuleti/lab2/blob/master/lab2.ipynb\" target=\"_parent\"><img src=\"https://colab.research.google.com/assets/colab-badge.svg\" alt=\"Open In Colab\"/></a>"
      ]
    },
    {
      "cell_type": "code",
      "metadata": {
        "colab": {
          "base_uri": "https://localhost:8080/"
        },
        "id": "BfNx2MRtVbvE",
        "outputId": "dbff5086-4751-4ad6-d741-07be1e7fac8d"
      },
      "source": [
        "num1 = int(input(\"Enter First Number: \"))\r\n",
        "num2 = int(input(\"Enter Second Number: \"))\r\n",
        "\r\n",
        "print(\"Enter which operation would you like to perform?\")\r\n",
        "ch = input(\"Enter any of these char for specific operation +,-,*,/: \")\r\n",
        "\r\n",
        "result = 0\r\n",
        "if ch == '+':\r\n",
        "    result = num1 + num2\r\n",
        "elif ch == '-':\r\n",
        "    result = num1 - num2\r\n",
        "elif ch == '*':\r\n",
        "    result = num1 * num2\r\n",
        "elif ch == '/':\r\n",
        "    result = num1 / num2\r\n",
        "else:\r\n",
        "    print(\"Input character is not recognized!\")\r\n",
        "\r\n",
        "print(num1, ch , num2, \"=\", result)"
      ],
      "execution_count": 1,
      "outputs": [
        {
          "output_type": "stream",
          "text": [
            "Enter First Number: 8\n",
            "Enter Second Number: 7\n",
            "Enter which operation would you like to perform?\n",
            "Enter any of these char for specific operation +,-,*,/: *\n",
            "8 * 7 = 56\n"
          ],
          "name": "stdout"
        }
      ]
    }
  ]
}